{
 "cells": [
  {
   "cell_type": "code",
   "execution_count": null,
   "metadata": {},
   "outputs": [],
   "source": [
    "1. Given a sentence, return the number of words which have the same first and last letter.\n",
    "\n",
    "Examples\n",
    "\n",
    "count_same_ends(\"Pop! goes the balloon\") ➞ 1\n",
    "\n",
    "count_same_ends(\"And the crowd goes wild!\") ➞ 0\n",
    "\n",
    "count_same_ends(\"No I am not in a gang.\") ➞ 1\n"
   ]
  },
  {
   "cell_type": "code",
   "execution_count": 12,
   "metadata": {},
   "outputs": [
    {
     "name": "stdout",
     "output_type": "stream",
     "text": [
      "Enter the stringNo I am not in a gang.\n"
     ]
    },
    {
     "data": {
      "text/plain": [
       "1"
      ]
     },
     "execution_count": 12,
     "metadata": {},
     "output_type": "execute_result"
    }
   ],
   "source": [
    "s=input(\"Enter the string \")\n",
    "def count_same_ends(s):\n",
    "    s=s.split(' ')\n",
    "    p=[]\n",
    "    count=0\n",
    "    import re\n",
    "    for i in s:\n",
    "        stripped_string = re.sub(r'\\W+', '', i)\n",
    "        p.append(stripped_string)\n",
    "    for i in p:\n",
    "        i=i.lower()\n",
    "        if i[0]==i[-1] and len(i)>1:\n",
    "            count+=1\n",
    "    return(count)\n",
    "count_same_ends(s)"
   ]
  },
  {
   "cell_type": "code",
   "execution_count": null,
   "metadata": {},
   "outputs": [],
   "source": [
    "2. The Atbash cipher is an encryption method in which each letter of a word is replaced with its \n",
    "\"mirror\" letter in the alphabet: A <=> Z; B <=> Y; C <=> X; etc.\n",
    "\n",
    "Create a function that takes a string and applies the Atbash cipher to it.\n",
    "\n",
    "Examples\n",
    "\n",
    "atbash(\"apple\") ➞ \"zkkov\"\n",
    "\n",
    "atbash(\"Hello world!\") ➞ \"Svool dliow!\"\n",
    "\n",
    "atbash(\"Christmas is the 25th of December\") ➞ \"Xsirhgnzh rh gsv 25gs lu Wvxvnyvi\"\n"
   ]
  },
  {
   "cell_type": "code",
   "execution_count": 27,
   "metadata": {},
   "outputs": [
    {
     "name": "stdout",
     "output_type": "stream",
     "text": [
      "Enter the stringChristmas is the 25th of December\n"
     ]
    },
    {
     "data": {
      "text/plain": [
       "'Xsirhgnzh rh gsv 25gs lu Wvxvnyvi'"
      ]
     },
     "execution_count": 27,
     "metadata": {},
     "output_type": "execute_result"
    }
   ],
   "source": [
    "def atbash(a):\n",
    "    \n",
    "    import string\n",
    "    alphabet_string = string.ascii_lowercase\n",
    "    up_alphabet_string=string.ascii_uppercase\n",
    "    up_alphabet_list = list(up_alphabet_string)\n",
    "    alphabet_list = list(alphabet_string)\n",
    "    ui=dict()\n",
    "    for i in range(len(alphabet_list)):\n",
    "        ui[alphabet_list[i]]=alphabet_list[-i-1]\n",
    "        ui[up_alphabet_list[i]]=up_alphabet_list[-i-1]\n",
    "    p=[]\n",
    "    m=''\n",
    "    for i in a:\n",
    "        for j in i:\n",
    "            if j.isalpha():\n",
    "                \n",
    "                m+=ui[j]\n",
    "            else:\n",
    "                m+=j\n",
    "    return(m)\n",
    "a=input('Enter the string')\n",
    "atbash(a)\n",
    "\n",
    "   "
   ]
  },
  {
   "cell_type": "code",
   "execution_count": null,
   "metadata": {},
   "outputs": [],
   "source": [
    "\n",
    "3. Create a class Employee that will take a full name as argument, as well as a set of none, one or\n",
    "more keywords. Each instance should have a name and a lastname attributes plus one more attribute for\n",
    "each of the keywords, if any.\n",
    "\n",
    "Examples\n",
    "\n",
    "john = Employee(\"John Doe\")\n",
    "mary = Employee(\"Mary Major\", salary=120000)\n",
    "richard = Employee(\"Richard Roe\", salary=110000, height=178)\n",
    "giancarlo = Employee(\"Giancarlo Rossi\", salary=115000, height=182, nationality=\"Italian\")\n",
    "\n",
    "john.name ➞ \"John\"\n",
    "mary.lastname ➞ \"Major\"\n",
    "richard.height ➞ 178\n",
    "giancarlo.nationality ➞ \"Italian\"\n"
   ]
  },
  {
   "cell_type": "code",
   "execution_count": 71,
   "metadata": {},
   "outputs": [
    {
     "name": "stdout",
     "output_type": "stream",
     "text": [
      "John\n",
      "Major\n",
      "178\n",
      "Italian\n"
     ]
    }
   ],
   "source": [
    "class Employee:\n",
    "    def __init__(self,name2,**kwargs):\n",
    "        name,last=name2.split(' ')\n",
    "        self.name=name\n",
    "        self.lastname=last\n",
    "        for i,j in kwargs.items():\n",
    "            setattr(self,i,j)\n",
    "john = Employee(\"John Doe\")\n",
    "mary = Employee(\"Mary Major\", salary=120000)\n",
    "richard = Employee(\"Richard Roe\", salary=110000, height=178)\n",
    "giancarlo = Employee(\"Giancarlo Rossi\", salary=115000, height=182, nationality=\"Italian\")\n",
    "print(john.name)\n",
    "print(mary.lastname)\n",
    "print(richard.height)\n",
    "print(giancarlo.nationality) "
   ]
  },
  {
   "cell_type": "code",
   "execution_count": null,
   "metadata": {},
   "outputs": [],
   "source": [
    "\n",
    "4. Create a function that determines whether each seat can \"see\" the front-stage. A number can\n",
    "\"see\" the front-stage if it is strictly greater than the number before it.\n",
    "\n",
    "Everyone can see the front-stage in the example below:\n",
    "\n",
    "# FRONT STAGE\n",
    "[[1, 2, 3, 2, 1, 1],\n",
    "[2, 4, 4, 3, 2, 2],\n",
    "[5, 5, 5, 5, 4, 4],\n",
    "[6, 6, 7, 6, 5, 5]]\n",
    "\n",
    "# Starting from the left, the 6 > 5 > 2 > 1, so all numbers can see.\n",
    "# 6 > 5 > 4 > 2 - so all numbers can see, etc.\n",
    "\n",
    "Not everyone can see the front-stage in the example below:\n",
    "\n",
    "# FRONT STAGE\n",
    "[[1, 2, 3, 2, 1, 1], \n",
    "[2, 4, 4, 3, 2, 2], \n",
    "[5, 5, 5, 10, 4, 4], \n",
    "[6, 6, 7, 6, 5, 5]]\n",
    "\n",
    "# The 10 is directly in front of the 6 and blocking its view.\n",
    "\n",
    "The function should return True if every number can see the front-stage, and False if even a single number cannot.\n",
    "\n",
    "Examples\n",
    "\n",
    "can_see_stage([\n",
    "  [1, 2, 3],\n",
    "  [4, 5, 6],\n",
    "  [7, 8, 9]\n",
    "]) ➞ True\n",
    "\n",
    "can_see_stage([\n",
    "  [0, 0, 0],\n",
    "  [1, 1, 1],\n",
    "  [2, 2, 2]\n",
    "]) ➞ True\n",
    "\n",
    "can_see_stage([\n",
    "  [2, 0, 0], \n",
    "  [1, 1, 1], \n",
    "  [2, 2, 2]\n",
    "]) ➞ False\n",
    "\n",
    "can_see_stage([\n",
    "  [1, 0, 0],\n",
    "  [1, 1, 1],\n",
    "  [2, 2, 2]\n",
    "]) ➞ False\n",
    "\n",
    "# Number must be strictly smaller than \n",
    "# the number directly behind it.\n"
   ]
  },
  {
   "cell_type": "code",
   "execution_count": 241,
   "metadata": {},
   "outputs": [
    {
     "name": "stdout",
     "output_type": "stream",
     "text": [
      "Enter the number of rows of matrix 4\n",
      "Enter the row 1 1, 2, 3, 2, 1, 1\n",
      "Enter the row 2 2, 4, 4, 3, 2, 2\n",
      "Enter the row 3 5, 5, 5, 5, 4, 4\n",
      "Enter the row 4 6, 6, 7, 6, 5, 5\n",
      "[[1, 2, 3, 2, 1, 1], [2, 4, 4, 3, 2, 2], [5, 5, 5, 5, 4, 4], [6, 6, 7, 6, 5, 5]]\n"
     ]
    },
    {
     "data": {
      "text/plain": [
       "True"
      ]
     },
     "execution_count": 241,
     "metadata": {},
     "output_type": "execute_result"
    }
   ],
   "source": [
    "\n",
    "def can_see_stage(a):\n",
    "    import numpy as np\n",
    "    import pandas as pd \n",
    "    a=np.array(a)\n",
    "    g=pd.DataFrame(a)\n",
    "    g.shape\n",
    "    z=1\n",
    "    for i in range(g.shape[1]):\n",
    "        for j in range(g.shape[0]-1):\n",
    "            if g[i][j]<=g[i][j+1]:\n",
    "                if i==(g.shape[1]-1) and j==(g.shape[0]-2):\n",
    "                    return(True)\n",
    "                else:\n",
    "                    continue\n",
    "            else:\n",
    "                return(False)\n",
    "u=int(input('Enter the number of rows of matrix '))\n",
    "p=[]\n",
    "for i in range(u):\n",
    "    d=input('Enter the row '+str(i+1)+' ').split(',')\n",
    "    d=[int(i) for i in d]       \n",
    "    p.append(d)\n",
    "print(p)\n",
    "can_see_stage(p)"
   ]
  },
  {
   "cell_type": "code",
   "execution_count": null,
   "metadata": {},
   "outputs": [],
   "source": [
    "5. Create a Pizza class with the attributes order_number and ingredients (which is given as a list). Only\n",
    "the ingredients will be given as input.\n",
    "\n",
    "You should also make it so that its possible to choose a ready made pizza flavour rather than typing out\n",
    "the ingredients manually! As well as creating this Pizza class, hard-code the following pizza flavours.\n",
    "\n",
    "Name\t                    Ingredients\n",
    "hawaiian\t          ham, pineapple\n",
    "meat_festival\tbeef, meatball, bacon\n",
    "garden_feast\tspinach, olives, mushroom\n",
    "\n",
    "Examples\n",
    "\n",
    "p1 = Pizza([\"bacon\", \"parmesan\", \"ham\"])    # order 1\n",
    "p2 = Pizza.garden_feast()                  # order 2\n",
    "\n",
    "p1.ingredients ➞ [\"bacon\", \"parmesan\", \"ham\"]\n",
    "\n",
    "p2.ingredients ➞ [\"spinach\", \"olives\", \"mushroom\"]\n",
    "\n",
    "p1.order_number ➞ 1\n",
    "\n",
    "p2.order_number ➞ 2"
   ]
  },
  {
   "cell_type": "code",
   "execution_count": 321,
   "metadata": {},
   "outputs": [
    {
     "name": "stdout",
     "output_type": "stream",
     "text": [
      "p1 1 ['bacon', 'parmesan', 'ham']\n",
      "p2 2 ['spinach', 'olives', 'mushroom']\n"
     ]
    }
   ],
   "source": [
    "class Pizza:\n",
    "    count=0\n",
    "    z=[]\n",
    "    def __init__(self,ingredients):\n",
    "        self.order_number=count\n",
    "        self.ingredients=ingredients\n",
    "        Pizza.count+=1\n",
    "        self.order_number=Pizza.count\n",
    "p1 = Pizza([\"bacon\", \"parmesan\", \"ham\"])\n",
    "p2=Pizza([\"spinach\", \"olives\", \"mushroom\"])\n",
    "print('p1',p1.order_number,p1.ingredients)\n",
    "print('p2',p2.order_number,p2.ingredients)\n",
    "\n",
    "       "
   ]
  },
  {
   "cell_type": "code",
   "execution_count": null,
   "metadata": {},
   "outputs": [],
   "source": []
  }
 ],
 "metadata": {
  "kernelspec": {
   "display_name": "Python 3",
   "language": "python",
   "name": "python3"
  },
  "language_info": {
   "codemirror_mode": {
    "name": "ipython",
    "version": 3
   },
   "file_extension": ".py",
   "mimetype": "text/x-python",
   "name": "python",
   "nbconvert_exporter": "python",
   "pygments_lexer": "ipython3",
   "version": "3.8.3"
  }
 },
 "nbformat": 4,
 "nbformat_minor": 4
}
